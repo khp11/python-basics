{
  "nbformat": 4,
  "nbformat_minor": 0,
  "metadata": {
    "colab": {
      "provenance": []
    },
    "kernelspec": {
      "name": "python3",
      "display_name": "Python 3"
    },
    "language_info": {
      "name": "python"
    }
  },
  "cells": [
    {
      "cell_type": "markdown",
      "source": [
        "# Python Basics Questions"
      ],
      "metadata": {
        "id": "ggfcUf72zfOW"
      }
    },
    {
      "cell_type": "markdown",
      "source": [
        "1. What is Python?\n",
        "\n",
        "    python is high level interpreted language , it was first created by Guido van Rossum and released in 1991. A programming language which is easy to understand and know cause of its easily readable syntax and convenient , its dynamic typing and dynamic binding make it more easy and convenient to use.\n",
        "\n",
        "  **Why is it popular?**\n",
        "\n",
        "* Easily Comprehensible:\n",
        "\n",
        "  With its syntax resembling the English language, Python is easy to learn and use. This approach enables novices to focus more on problem-solving, rather than getting stressed about dealing with complex programming.\n",
        "\n",
        "* Pre Package Available:\n",
        "\n",
        "  Another great advantage of using Python is its availability of a lot of inbuilt tools and libraries such as NumPy, pandas, TensorFlow, Django and Flask which enables developers to develop programs for websites, performing data analysis, machine learning among others within a short span of time.\n",
        "\n",
        "* Works Everywhere:\n",
        "\n",
        "  Anyone can use Python across Windows, Mac or Linux operating systems. It encompasses a variety of programming paradigms, including but not limited to, object-oriented or functional, and can be employed for artificial intelligence, web application development, and automation tasks as well.\n",
        "\n",
        "* Helpful Community:\n",
        "\n",
        "  Part of the appeal of Python is its immense, growing ecosystem that contains many helpful resources such as tutorials, articles, and discussion forums. In other words, don’t worry if you get lost: there’re many essays that will assist you.\n",
        "\n",
        "* Used by Big Companies:\n",
        "\n",
        "  Corporations, including Google, Netflix, and NASA, use Python for everything from building websites to developing AI algorithms. It gives the best to both new ventures and established organizations due to its versatility.\n",
        "\n",
        "\n",
        "\n",
        "\n",
        "\n"
      ],
      "metadata": {
        "id": "I3hIa9Urzqdf"
      }
    },
    {
      "cell_type": "markdown",
      "source": [
        "2.  **What is an interpreter in Python?**\n",
        "    \n",
        "  An interpreter in Python is a program that executes Python code line by line. Python code is therefore turned into computer machine language commands that the computer understands without the need to compile the code into a separate binary document. It eliminates the need to compile code into a standalone binary file, as is done in compiled languages like C or Java.\n"
      ],
      "metadata": {
        "id": "pN1WiUuu4e8g"
      }
    },
    {
      "cell_type": "markdown",
      "source": [
        "3.  **What are pre-defined keywords in Python?**\n",
        "\n",
        "  In the syntax of Python, certain specific words or terms have special meanings and that is why they are also known as keywords. Keywords are a part of the syntax of Python and thus can’t be used as identifiers (e.g. variable names, function names). The significance of these keywords is that they help in formulating the structure as well as the control flow of the program.\n",
        "\n",
        "  python keywords are:(refer to practical question number 3)\n",
        "\n",
        "    ['False', 'None', 'True', 'and', 'as', 'assert', 'async',\n",
        "    'await', 'break', 'class', 'continue', 'def', 'del',\n",
        "    'elif', 'else', 'except', 'finally', 'for', 'from',\n",
        "    'global', 'if', 'import', 'in', 'is', 'lambda', 'nonlocal',\n",
        "    'not', 'or', 'pass', 'raise', 'return', 'try', 'while',\n",
        "    'with', 'yield']\n",
        "\n"
      ],
      "metadata": {
        "id": "6cuWQK0-8kk-"
      }
    },
    {
      "cell_type": "markdown",
      "source": [
        "4.  **Can keywords be used as variable names?**\n",
        "    \n",
        "    No, you cannot use keywords as variable names in Python. Keywords are reserved words in the Python language, each having a particular meaning. If you try to use keywords for a variable name, interpreter will throw a SyntaxError because the Python interpreter identifies it as part of the language's syntax."
      ],
      "metadata": {
        "id": "kX4sLYC6-diq"
      }
    },
    {
      "cell_type": "markdown",
      "source": [
        "5.  **What is mutability in Python?**\n",
        "\n",
        "  In Python mutability describes whether an object can be altered after it has been created. Depending on their nature, the objects in Python can be described as either mutable or immutable.\n",
        "\n",
        "* Muttable objects: Such objects can be altered even after they have been created which allows adjustments such as additions, removals, or changes.\n",
        "\n",
        "* Immutable objects: These are once created, they cannot be changed; any attempt to modify the object leads to a new object being created.\n",
        "\n",
        "\n"
      ],
      "metadata": {
        "id": "UxGBKj9WAnQK"
      }
    },
    {
      "cell_type": "markdown",
      "source": [
        "6.  **Why are lists mutable, but tuples are immutable?**\n",
        "\n",
        "  The disparity of mutability that is exhibited by lists and tuples in Python is not a mistake rather it stems from their intended usage and how they were designed.\n",
        "\n",
        "\n",
        "\n",
        " * Lists:\n",
        "  \n",
        "  They are represented internally as dynamic arrays.\n",
        "  \n",
        "  They are meant to include additional space enabling expansion, as in adding more elements or removing elements.\n",
        "  \n",
        "  This particular feature is what makes them mutable.\n",
        "\n",
        "  Because modifications in their characteristics are permitted, lists have to possess features for dynamic memory allocation. This, however, tends to make them a bit more costly in certain operations in both time and memory space compared.\n",
        "\n",
        "\n",
        "\n",
        "* Tuples:\n",
        "\n",
        "  With respect to the aforementioned, they are represented as static arrays.\n",
        "\n",
        "  the elements that comprise tuples can neither be changed nor its number once it is formed which enhances performance making it impossible to modify it through accident.\n",
        "\n",
        "  The fact that they do not change enables more economical storage of tuples in memory. Unlike lists, they can also be used as keys in dictionaries because they are hashable.\n",
        "\n"
      ],
      "metadata": {
        "id": "7bvtlkPiC2jw"
      }
    },
    {
      "cell_type": "markdown",
      "source": [
        "7.  **What is the difference between “==” and “is” operators in Python?**\n",
        "\n",
        "    The == operator is used to compare the values of the two objects, x and y for instance. Even if x and y are two different objects, if their respective item lists are the same, the expression x == y returns a True output. Another example applying the what is the is operator, This operator works differently than the previous one as it only compares the address of two objects in a computer's memory. Therefore, saying x is y will only be true in an event that they are one and the same object. To summarize this, the difference between == and is is addressed by the content and the memory address respectively.\n",
        "\n",
        "\n",
        "\n",
        "\n"
      ],
      "metadata": {
        "id": "3gR1xqIPE6lY"
      }
    },
    {
      "cell_type": "markdown",
      "source": [
        "8.  **What are logical operators in Python?**\n",
        "\n",
        "    In Python, logical operators are applied to multiple conditions or boolean expressions to achieve the results as either ‘True’ or ‘False’. The logical operators are as follows: ‘and’, ‘or’, ‘not’. The first one is the ‘and’ operator which returns ‘True’ only if both the conditions that are being evaluated are ‘True’, in all other cases it returns ‘False.’ The ‘or’ operator returns ‘True’ if any one or more of the conditions are ‘True’ it would return ‘False’ if all the conditions under evaluation are ‘False’. The  'not' operator is used to change the value of a boolean expression into its opposite meaning. This means, it will return ‘True’ for a condition which is false and vice versa.\n",
        "\n",
        "\n"
      ],
      "metadata": {
        "id": "1mXEG5CGjeRF"
      }
    },
    {
      "cell_type": "markdown",
      "source": [
        "9.  **What is type casting in Python?**\n",
        "\n",
        "  Type casting means converting from one data type into another. This is important, especially if you are dealing with variables that are not interchangeable, or when you have to change the type of a variable to meet the requirements of your program.\n"
      ],
      "metadata": {
        "id": "HZTnPVeSrkiE"
      }
    },
    {
      "cell_type": "markdown",
      "source": [
        "10.    **What is the difference between implicit and explicit type casting?**\n",
        "        \n",
        "        There are two main methods of type casting, namely, implicit and explicit.\n",
        "\n",
        "  * Implicit Type Casting (also called type correction):\n",
        "\n",
        "    This occurs automatically as a Python feature whenever a low level data type is changed to a high level data type. This can be seen when a necessary arithmetic operation taking place causes an integer to a float.\n",
        "\n",
        "    Example:\n",
        "              x = 10     \n",
        "              y = 2.5    \n",
        "              result = x + y  # Implicit type casting occurs: integer is converted to float\n",
        "\n",
        "  * Explicit Type Casting:\n",
        "  \n",
        "  In this case, the programmer has to make an effort to switch one data type into another using type casting functions like int(), float(), str(), etc. This becomes important when you need to keep a variable with a certain type or when there is no possibility for automatic type conversion.\n",
        "\n",
        "  Example:\n",
        "            x = \"25\"\n",
        "            y = int(x)\n",
        "            print(y)\n",
        "\n"
      ],
      "metadata": {
        "id": "PdvJCES1vgdq"
      }
    },
    {
      "cell_type": "markdown",
      "source": [
        "11.   **What is the purpose of conditional statements in Python?**\n",
        "        \n",
        "        Conditional statements in Python allow the program to decide based on a condition set. They are supposed to run specific pieces of code depending on if a particular condition is met. This enables control over the flow of control and enables the performance of many actions depending on changing situations. The major conditional statements used in Python include if, elif, and else. This statement makes an evaluation for the stated condition and follows with execution of a code block determined by if the condition comes true. The elif enables the program to further specify that more conditions may be described should the first conditional state turn out to be not true. The else state is the final conditional statement whose block is executed when everything prior in the if / else construct is determined false. In general, conditional statements are used to allow the program to execute various kinds of logic and reasoning based on user input and when the program itself needs to function.\n",
        "\n",
        "\n",
        "\n"
      ],
      "metadata": {
        "id": "FnpaGyptxVk2"
      }
    },
    {
      "cell_type": "markdown",
      "source": [
        "12.   **How does the elif statement work?**\n",
        "        \n",
        "        The elif statement is the abbreviation of \"else if.\" It works in Python to check several conditions sequentially. It follows an if statement and allows the program to check further conditions when the previous conditions are false. When the condition of the if does not come true, the program shifts over to the elif condition for its truthfulness. In case the elif condition comes true, then the block of codes associated with it gets executed. If the if or elif conditions are not true, the else block will get executed only when defined.\n"
      ],
      "metadata": {
        "id": "YX6iIfS8ygEO"
      }
    },
    {
      "cell_type": "markdown",
      "source": [
        "13.  **What is the difference between for and while loops?**\n",
        "          \n",
        "      The only fundamental difference between the use of for and while loops in Python lies in their specific application and the level of control they present over the iterations. For loops are used when the number of iterations is known beforehand, or when a collection, such as a list, tuple, or range, needs to be iterated through. The aggregation can be a list of many things, and the code fragment goes through and executes its operations on each of these objects in the list. On the other hand, a while loop is good when the total number of iterations cannot be known ahead of time to permit the execution of the code; in this case, the loop will run while some given condition holds. It is not dependent on any constant variable; rather, it is strictly dependent upon the performance evaluation of the loop, which takes place before the concerned iteration. If the condition is satisfied, the program of the loop continues its execution process. Because of the nature of their control structures, it is often the case that for and while loops give equivalent results; hence, for loops are usually used far more often than while loops when the number of iterations that are needed is known in advance, because a condition will not affect this decision.\n",
        "\n"
      ],
      "metadata": {
        "id": "0tIOOpRD0JKM"
      }
    },
    {
      "cell_type": "markdown",
      "source": [
        "14.    **Describe a scenario where a while loop is more suitable than a for loop.**\n",
        "\n",
        "      In situations where a defined number of times the block of code will need to be executed is not fixed then methods such as while loops find more applications as the logic can be executed any number of times but only if a specific condition is met. For instance, let’s take a program which asks user to enter a valid password repeatedly till they do so correctly. As there can be countless attempts possible, a while loop perfectly fits the bill.\n",
        "\n",
        "Scenario Example:\n",
        "\n",
        "    correct_password = \"python\"\n",
        "\n",
        "    user_password = \"\"\n",
        "\n",
        "    while user_password != correct_password:\n",
        "\n",
        "    user_password = input(\"Enter the password: \")\n",
        "\n",
        "    print(\"Access granted!\")\n",
        "\n",
        "In this case, access can only be granted after the correct password is entered, and thus a while loop is the correct choice. The application for a for loop in this case does not exist as there is no limited range as defined by the user as the number of attempts will vary as per the input. As a result of this, the while loop is optimal.\n",
        "\n"
      ],
      "metadata": {
        "id": "foVBuTSUzpMm"
      }
    },
    {
      "cell_type": "markdown",
      "source": [
        "# PRACTICAL QUESTION'S ANSWERS"
      ],
      "metadata": {
        "id": "QmlCB5Ph4E40"
      }
    },
    {
      "cell_type": "markdown",
      "source": [
        " 1. Write a Python program to print \"Hello, World!\n"
      ],
      "metadata": {
        "id": "6lNeQi2xHDA7"
      }
    },
    {
      "cell_type": "code",
      "execution_count": null,
      "metadata": {
        "id": "N2yEXBXA-DW0"
      },
      "outputs": [],
      "source": [
        "##Q1\n",
        "print(\"Hello,World!\")"
      ]
    },
    {
      "cell_type": "markdown",
      "source": [
        "2. Write a Python program that displays your name and age\n"
      ],
      "metadata": {
        "id": "3MpKDOcHHIhP"
      }
    },
    {
      "cell_type": "code",
      "source": [
        "#Q2\n",
        "name = input(\"what is your name: \")\n",
        "try:\n",
        "  age = int(input(\"what is your age(in yrs): \"))\n",
        "  if age<=0:\n",
        "    raise ValueError\n",
        "  else:\n",
        "    print(\"my name is {}\".format(name))\n",
        "    print(\"my current age is: {} years\".format(age))\n",
        "except ValueError:\n",
        "    print(\"That's not a valid age number!\")"
      ],
      "metadata": {
        "colab": {
          "base_uri": "https://localhost:8080/"
        },
        "id": "HWucr-dD-hyU",
        "outputId": "591a1f52-a6a8-4f19-b73b-499ef678e40d"
      },
      "execution_count": 24,
      "outputs": [
        {
          "output_type": "stream",
          "name": "stdout",
          "text": [
            "what is your name: arbaz khan\n",
            "what is your age(in yrs): 18\n",
            "my name is arbaz khan\n",
            "my current age is: 18 years\n"
          ]
        }
      ]
    },
    {
      "cell_type": "markdown",
      "source": [
        "3. Write code to print all the pre-defined keywords in Python using the keyword library\n"
      ],
      "metadata": {
        "id": "pn7EFszoHRzo"
      }
    },
    {
      "cell_type": "code",
      "source": [
        "#Q3\n",
        "import keyword\n",
        "print(keyword.kwlist)"
      ],
      "metadata": {
        "colab": {
          "base_uri": "https://localhost:8080/"
        },
        "id": "yFZpoPDrIoSu",
        "outputId": "7f8e36f0-c394-44a1-9e6c-ea8cb7f58cb6"
      },
      "execution_count": null,
      "outputs": [
        {
          "output_type": "stream",
          "name": "stdout",
          "text": [
            "['False', 'None', 'True', 'and', 'as', 'assert', 'async', 'await', 'break', 'class', 'continue', 'def', 'del', 'elif', 'else', 'except', 'finally', 'for', 'from', 'global', 'if', 'import', 'in', 'is', 'lambda', 'nonlocal', 'not', 'or', 'pass', 'raise', 'return', 'try', 'while', 'with', 'yield']\n"
          ]
        }
      ]
    },
    {
      "cell_type": "markdown",
      "source": [
        "4.  Write a program that checks if a given word is a Python keyword\n"
      ],
      "metadata": {
        "id": "8DKbu2CfHXH4"
      }
    },
    {
      "cell_type": "code",
      "source": [
        "#Q4\n",
        "import keyword\n",
        "inputword= input(\"enter ur keyword: \")\n",
        "if inputword in keyword.kwlist:\n",
        "  print(\"this is a keyword\")\n",
        "else:\n",
        "  print(\"this is not a keyword\")"
      ],
      "metadata": {
        "colab": {
          "base_uri": "https://localhost:8080/"
        },
        "id": "5sreqJQzI1s4",
        "outputId": "e9adf83d-ede5-47c8-b37c-e8c31fddfe63"
      },
      "execution_count": null,
      "outputs": [
        {
          "output_type": "stream",
          "name": "stdout",
          "text": [
            "enter ur keyword: ss\n",
            "this is not a keyword\n"
          ]
        }
      ]
    },
    {
      "cell_type": "markdown",
      "source": [
        "5. Create a list and tuple in Python, and demonstrate how attempting to change an element works differently\n",
        "for each"
      ],
      "metadata": {
        "id": "Esq4l0P0Hce9"
      }
    },
    {
      "cell_type": "code",
      "source": [
        "#Q5\n",
        "\n",
        "tuple1= (123,20,31,42,53)\n",
        "list1= [6,98,55,42,41,40,65]\n",
        "#attempting to change an element by reassignment\n",
        "list1[2]=200\n",
        "print(list1)\n",
        "try:\n",
        "  tuple1[4]=56\n",
        "  print(tuple1)\n",
        "except TypeError as e:\n",
        "  print(e)\n",
        "#attempting to change an elementof tuple by recreation\n",
        "print(tuple1)\n",
        "id1 = id(tuple1)\n",
        "list2 = list(tuple1)\n",
        "list2[4] =56\n",
        "tuple1 = tuple(list2)\n",
        "print(tuple1)\n",
        "id2 = id(tuple1)\n",
        "print(id1,id2)\n",
        "print(hex(id1),hex(id2))\n",
        "#as we know tuple is immutable so after changing its element by recreation tuple is actually a new tuple in different memmory address u can see id of both are different that\n",
        "#shows we cant change tuple"
      ],
      "metadata": {
        "colab": {
          "base_uri": "https://localhost:8080/"
        },
        "id": "jJjQhBDQKoeN",
        "outputId": "d0b61ec6-6e9f-494f-d25f-42f464ea9746"
      },
      "execution_count": null,
      "outputs": [
        {
          "output_type": "stream",
          "name": "stdout",
          "text": [
            "[6, 98, 200, 42, 41, 40, 65]\n",
            "'tuple' object does not support item assignment\n",
            "(123, 20, 31, 42, 53)\n",
            "(123, 20, 31, 42, 56)\n",
            "139867730665424 139867730666784\n",
            "0x7f357e66dfd0 0x7f357e66e520\n"
          ]
        }
      ]
    },
    {
      "cell_type": "markdown",
      "source": [
        "6. Write a function to demonstrate the behavior of mutable and immutable arguments\n"
      ],
      "metadata": {
        "id": "eQuD0IjbHg7L"
      }
    },
    {
      "cell_type": "code",
      "source": [
        "#Q6\n",
        "\n",
        "def modifyargs(muttableargs,immutableargs):\n",
        "  print(\"old list is: \", list1)\n",
        "  muttableargs[1]=200\n",
        "  print(\"element succesfully changed in same memory address: \", hex(id(muttableargs)), \"\\n\" \"newly changed list is: \" , muttableargs)\n",
        "  try:\n",
        "    immutableargs[1]=200\n",
        "    print(immutableargs)\n",
        "  except TypeError as e:\n",
        "    return e\n",
        "\n",
        "\n",
        "list1= [1,2,8,5,45]\n",
        "#tuple1 =(1,2,4,5,87,50)\n",
        "tuple1 =\"hello\"\n",
        "print(modifyargs(list1,tuple1))"
      ],
      "metadata": {
        "id": "UVqGrmr87tyC",
        "colab": {
          "base_uri": "https://localhost:8080/"
        },
        "outputId": "5e22ff9e-c660-470c-bbad-8c45018a9561"
      },
      "execution_count": null,
      "outputs": [
        {
          "output_type": "stream",
          "name": "stdout",
          "text": [
            "old list is:  [1, 2, 8, 5, 45]\n",
            "element succesfully changed in same memory address:  0x7f35493840c0 \n",
            "newly changed list is:  [1, 200, 8, 5, 45]\n",
            "'str' object does not support item assignment\n"
          ]
        }
      ]
    },
    {
      "cell_type": "markdown",
      "source": [
        "7. Write a function to demonstrate the behavior of mutable and immutable arguments"
      ],
      "metadata": {
        "id": "sgxW8tR2Hkhz"
      }
    },
    {
      "cell_type": "code",
      "source": [
        "#Q7 ( same as q6)\n",
        "\n",
        "def modifyargs(muttableargs,immutableargs):\n",
        "  print(\"old list is: \", list1)\n",
        "  muttableargs[1]=200\n",
        "  print(\"element succesfully changed in same memory address: \", hex(id(muttableargs)), \"\\n\" \"newly changed list is: \" , muttableargs)\n",
        "  try:\n",
        "    immutableargs[1]=200\n",
        "    print(immutableargs)\n",
        "  except TypeError as e:\n",
        "    return e\n",
        "\n",
        "\n",
        "list1= [1,2,8,5,45]\n",
        "tuple1 =(1,2,4,5,87,50)\n",
        "#tuple1 =\"hello\"\n",
        "print(modifyargs(list1,tuple1))"
      ],
      "metadata": {
        "id": "fx-LCyfhGlsn",
        "colab": {
          "base_uri": "https://localhost:8080/"
        },
        "outputId": "55dd3d84-89a8-4ced-f0a2-63ca572cc36a"
      },
      "execution_count": 44,
      "outputs": [
        {
          "output_type": "stream",
          "name": "stdout",
          "text": [
            "old list is:  [1, 2, 8, 5, 45]\n",
            "element succesfully changed in same memory address:  0x79d2f8251b00 \n",
            "newly changed list is:  [1, 200, 8, 5, 45]\n",
            "'tuple' object does not support item assignment\n"
          ]
        }
      ]
    },
    {
      "cell_type": "markdown",
      "source": [
        "8. Write a program to demonstrate the use of logical operators\n"
      ],
      "metadata": {
        "id": "u3lWe7QPHl92"
      }
    },
    {
      "cell_type": "code",
      "source": [
        "#Q8\n",
        "number1 =[str(i) for i in range(10)]\n",
        "user_name = input(\"enter ur username: \")\n",
        "pass_word = input(\"enter ur password: \")\n",
        "if not(len(pass_word)>8 and (len(set(number1)& set([i for i in pass_word])) >0)):#use of and & not logical operator\n",
        "  print(\"create strong password more than 8 chrachter including numbers\")\n",
        "elif len(user_name)==0 or len(pass_word)==0: #use of or logical operator\n",
        "  print(\"input is necessary to procced further\")\n",
        "else:\n",
        "  print(\"succesfully procceded\")\n"
      ],
      "metadata": {
        "colab": {
          "base_uri": "https://localhost:8080/"
        },
        "id": "Ep8mtoOrJZKO",
        "outputId": "aa152d01-5583-40ea-a239-7d370b2b4c5b"
      },
      "execution_count": null,
      "outputs": [
        {
          "output_type": "stream",
          "name": "stdout",
          "text": [
            "enter ur username: hhhhh\n",
            "enter ur password: jkljjhj5544\n",
            "succesfully procceded\n"
          ]
        }
      ]
    },
    {
      "cell_type": "markdown",
      "source": [
        "9. Write a Python program to convert user input from string to integer, float, and boolean types\n"
      ],
      "metadata": {
        "id": "WJIat6z9HyA0"
      }
    },
    {
      "cell_type": "code",
      "source": [
        "#Q9\n",
        "user_input = input(\"need ur input:-) for conversion: \")\n",
        "to_str = str(user_input)\n",
        "try:\n",
        "  to_float = float(user_input)\n",
        "  to_int = int(user_input)\n",
        "  to_bool = bool(int(user_input))\n",
        "  print(\"to_integer {}\\nto_float {}\\nto_bool {}\".format(to_int,to_float,to_bool))\n",
        "except ValueError:\n",
        "  print(\"this cant typecaste into ineteger and float\")\n",
        "  print(\"to_bool \",bool(user_input))\n",
        "\n"
      ],
      "metadata": {
        "colab": {
          "base_uri": "https://localhost:8080/"
        },
        "id": "9JxIdJGEymvF",
        "outputId": "0a5d5038-af32-4713-b252-645cea7f18df"
      },
      "execution_count": null,
      "outputs": [
        {
          "output_type": "stream",
          "name": "stdout",
          "text": [
            "need ur input:-) for conversion: hgh\n",
            "string cant typecaste into ineteger and float\n",
            "to_bool  True\n"
          ]
        }
      ]
    },
    {
      "cell_type": "markdown",
      "source": [
        "10. Write code to demonstrate type casting with list elements\n"
      ],
      "metadata": {
        "id": "K3SEBOWRH2kd"
      }
    },
    {
      "cell_type": "code",
      "source": [
        "#Q10\n",
        "user_input = input(\"enter ur list elements seperated by single space : \")\n",
        "user_input = user_input.split(\" \")\n",
        "user_inputint = []\n",
        "user_inputfloat = []\n",
        "user_inputbool = []\n",
        "for i in range(len(user_input)):\n",
        "  try:\n",
        "    user_inputfloat.append(float(user_input[i]))\n",
        "    user_inputint.append(int(user_input[i]))\n",
        "    user_inputbool.append(bool(int(user_input[i])))\n",
        "  except:\n",
        "    print(\"the element at index \",i,\" cant be typecasted to int and float cause string: \")\n",
        "    user_inputbool.append(bool(user_input[i]))\n",
        "\n",
        "print(\"all elements typecasted into float: \" , user_inputfloat)\n",
        "print(\"all elements typecasted into  int: \" , user_inputint)\n",
        "print(\"all elements typecasted into  bool: \" , user_inputbool)\n"
      ],
      "metadata": {
        "colab": {
          "base_uri": "https://localhost:8080/"
        },
        "id": "xiU3RrjoEyCK",
        "outputId": "783704fb-25db-401b-8b8c-61fbcb8581f6"
      },
      "execution_count": 6,
      "outputs": [
        {
          "output_type": "stream",
          "name": "stdout",
          "text": [
            "enter ur list elements seperated by single space : 4 5   6 4 88\n",
            "the element at index  2  cant be typecasted to int and float: \n",
            "the element at index  3  cant be typecasted to int and float: \n",
            "all elements typecasted into it float:  [4.0, 5.0, 6.0, 4.0, 88.0]\n",
            "all elements typecasted into it int:  [4, 5, 6, 4, 88]\n",
            "all elements typecasted into it bool:  [True, True, False, False, True, True, True]\n"
          ]
        }
      ]
    },
    {
      "cell_type": "markdown",
      "source": [
        "11. Write a program that checks if a number is positive, negative, or zero.\n"
      ],
      "metadata": {
        "id": "WoVNfnIFSz7o"
      }
    },
    {
      "cell_type": "code",
      "source": [
        "#Q11\n",
        "user_input = input(\"enter ur number directly or to get evaluated and checked: \")\n",
        "\n",
        "try:\n",
        "  user_input = float(eval(user_input))\n",
        "  if user_input < 0:\n",
        "    print(\"the number entered {} is negative\".format(user_input))\n",
        "  elif user_input > 0:\n",
        "    print(\"the number entered {} is positive\".format(user_input))\n",
        "  else:\n",
        "    print(\"the number entered {} is zero\".format(user_input))\n",
        "except:\n",
        "  print(\"this is not a number\")"
      ],
      "metadata": {
        "colab": {
          "base_uri": "https://localhost:8080/"
        },
        "id": "seZaQDPzQjI0",
        "outputId": "27c49ab1-5da1-4857-c7a6-71aa57b9f41a"
      },
      "execution_count": 17,
      "outputs": [
        {
          "output_type": "stream",
          "name": "stdout",
          "text": [
            "enter ur number directly or to get evaluated and checked: 55-25*3\n",
            "the number entered -20.0 is negative\n"
          ]
        }
      ]
    },
    {
      "cell_type": "markdown",
      "source": [
        "12.  Write a for loop to print numbers from 1 to 10\n"
      ],
      "metadata": {
        "id": "lUa7IYLZkxmm"
      }
    },
    {
      "cell_type": "code",
      "source": [
        "#Q12\n",
        "for i in range(1,11,1):\n",
        "  print(i)"
      ],
      "metadata": {
        "colab": {
          "base_uri": "https://localhost:8080/"
        },
        "id": "pAlGitwyU5gt",
        "outputId": "91ae0350-9e6f-4ba3-948b-069b7293e232"
      },
      "execution_count": 3,
      "outputs": [
        {
          "output_type": "stream",
          "name": "stdout",
          "text": [
            "1\n",
            "2\n",
            "3\n",
            "4\n",
            "5\n",
            "6\n",
            "7\n",
            "8\n",
            "9\n",
            "10\n"
          ]
        }
      ]
    },
    {
      "cell_type": "markdown",
      "source": [
        "13. Write a Python program to find the sum of all even numbers between 1 and 50\n"
      ],
      "metadata": {
        "id": "26S7t73LlP3-"
      }
    },
    {
      "cell_type": "code",
      "source": [
        "#Q13\n",
        "sum=0\n",
        "for i in range(1,51,1):\n",
        "  if i%2==0:\n",
        "    sum+=i\n",
        "\n",
        "print(\"sum of all even between 1 and 50 is {} \".format(sum))"
      ],
      "metadata": {
        "colab": {
          "base_uri": "https://localhost:8080/"
        },
        "id": "G8waDZarlYRe",
        "outputId": "6f5a6340-a30e-417c-f996-a4bf2f7970af"
      },
      "execution_count": 5,
      "outputs": [
        {
          "output_type": "stream",
          "name": "stdout",
          "text": [
            "sum of all even between 1 and 50 is 650 \n"
          ]
        }
      ]
    },
    {
      "cell_type": "markdown",
      "source": [
        "14.  Write a program to reverse a string using a while loop\n"
      ],
      "metadata": {
        "id": "1nw73FasmVMf"
      }
    },
    {
      "cell_type": "code",
      "source": [
        "#Q14\n",
        "input_string = input(\"enter ur strings to get reversed: \" )\n",
        "length = (len(input_string)-1)\n",
        "while(length>=0):\n",
        "  print(input_string[length],end =\"\")\n",
        "  length -=1"
      ],
      "metadata": {
        "colab": {
          "base_uri": "https://localhost:8080/"
        },
        "id": "-dTGVp6CmY35",
        "outputId": "6c1ef551-1ef3-4fa2-dceb-b49c94db7388"
      },
      "execution_count": 41,
      "outputs": [
        {
          "output_type": "stream",
          "name": "stdout",
          "text": [
            "enter ur strings to get reversed: arbaz khan\n",
            "nahk zabra"
          ]
        }
      ]
    },
    {
      "cell_type": "markdown",
      "source": [
        "15.  Write a Python program to calculate the factorial of a number provided by the user using a while loop.\n"
      ],
      "metadata": {
        "id": "Le_hheRvoZ8T"
      }
    },
    {
      "cell_type": "code",
      "source": [
        "#Q15\n",
        "user_input = input(\"Enter ur number: \")\n",
        "fact = 1\n",
        "try:\n",
        "  number = float(user_input)\n",
        "  if number <0:\n",
        "    raise TypeError\n",
        "  else:\n",
        "    while(number>1):\n",
        "      fact = fact*number\n",
        "      number-=1\n",
        "  print(\"factorial of {} is {}\".format(int(float(user_input)),int(fact)))\n",
        "\n",
        "\n",
        "except:\n",
        "  print(\"enter a postive integer for factorial\")"
      ],
      "metadata": {
        "colab": {
          "base_uri": "https://localhost:8080/"
        },
        "id": "hTPkDbRWodmR",
        "outputId": "75a4c152-103d-4c1b-f15d-653c23b6c670"
      },
      "execution_count": 42,
      "outputs": [
        {
          "output_type": "stream",
          "name": "stdout",
          "text": [
            "Enter ur number: 0\n",
            "factorial of 0 is 1\n"
          ]
        }
      ]
    }
  ]
}